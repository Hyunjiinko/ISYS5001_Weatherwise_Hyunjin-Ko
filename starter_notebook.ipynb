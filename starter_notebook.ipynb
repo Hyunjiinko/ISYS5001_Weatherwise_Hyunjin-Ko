{
  "cells": [
    {
      "cell_type": "markdown",
      "metadata": {
        "id": "view-in-github",
        "colab_type": "text"
      },
      "source": [
        "<a href=\"https://colab.research.google.com/github/Hyunjiinko/ISYS5001_Weatherwise_Hyunjin-Ko/blob/main/starter_notebook.ipynb\" target=\"_parent\"><img src=\"https://colab.research.google.com/assets/colab-badge.svg\" alt=\"Open In Colab\"/></a>"
      ]
    },
    {
      "cell_type": "markdown",
      "id": "72e78a05",
      "metadata": {
        "id": "72e78a05"
      },
      "source": [
        "# 🌦️ WeatherWise – Starter Notebook\n",
        "\n",
        "Welcome to your **WeatherWise** project notebook! This scaffold is designed to help you build your weather advisor app using Python, visualisations, and AI-enhanced development.\n",
        "\n",
        "---\n",
        "\n",
        "📄 **Full Assignment Specification**  \n",
        "See [`ASSIGNMENT.md`](ASSIGNMENT.md) or check the LMS for full details.\n",
        "\n",
        "📝 **Quick Refresher**  \n",
        "A one-page summary is available in [`resources/assignment-summary.md`](resources/assignment-summary.md).\n",
        "\n",
        "---\n",
        "\n",
        "🧠 **This Notebook Structure is Optional**  \n",
        "You’re encouraged to reorganise, rename sections, or remove scaffold cells if you prefer — as long as your final version meets the requirements.\n",
        "\n",
        "✅ You may delete this note before submission.\n",
        "\n"
      ]
    },
    {
      "cell_type": "markdown",
      "id": "fa8c7f6c",
      "metadata": {
        "id": "fa8c7f6c"
      },
      "source": [
        "## 🧰 Setup and Imports\n",
        "\n",
        "This section imports commonly used packages and installs any additional tools used in the project.\n",
        "\n",
        "- You may not need all of these unless you're using specific features (e.g. visualisations, advanced prompting).\n",
        "- The notebook assumes the following packages are **pre-installed** in the provided environment or installable via pip:\n",
        "  - `requests`, `matplotlib`, `pyinputplus`\n",
        "  - `fetch-my-weather` (for accessing weather data easily)\n",
        "  - `hands-on-ai` (for AI logging, comparisons, or prompting tools)\n",
        "\n",
        "If you're running this notebook in **Google Colab**, uncomment the following lines to install the required packages.\n"
      ]
    },
    {
      "cell_type": "code",
      "execution_count": 1,
      "id": "70c3f3f1",
      "metadata": {
        "id": "70c3f3f1",
        "colab": {
          "base_uri": "https://localhost:8080/"
        },
        "outputId": "da1c7137-0177-40fb-aa43-ed7db9f15258"
      },
      "outputs": [
        {
          "output_type": "stream",
          "name": "stdout",
          "text": [
            "Collecting fetch-my-weather\n",
            "  Downloading fetch_my_weather-0.4.0-py3-none-any.whl.metadata (12 kB)\n",
            "Requirement already satisfied: requests>=2.25.0 in /usr/local/lib/python3.12/dist-packages (from fetch-my-weather) (2.32.4)\n",
            "Requirement already satisfied: pydantic>=1.8.0 in /usr/local/lib/python3.12/dist-packages (from fetch-my-weather) (2.11.10)\n",
            "Requirement already satisfied: annotated-types>=0.6.0 in /usr/local/lib/python3.12/dist-packages (from pydantic>=1.8.0->fetch-my-weather) (0.7.0)\n",
            "Requirement already satisfied: pydantic-core==2.33.2 in /usr/local/lib/python3.12/dist-packages (from pydantic>=1.8.0->fetch-my-weather) (2.33.2)\n",
            "Requirement already satisfied: typing-extensions>=4.12.2 in /usr/local/lib/python3.12/dist-packages (from pydantic>=1.8.0->fetch-my-weather) (4.15.0)\n",
            "Requirement already satisfied: typing-inspection>=0.4.0 in /usr/local/lib/python3.12/dist-packages (from pydantic>=1.8.0->fetch-my-weather) (0.4.2)\n",
            "Requirement already satisfied: charset_normalizer<4,>=2 in /usr/local/lib/python3.12/dist-packages (from requests>=2.25.0->fetch-my-weather) (3.4.4)\n",
            "Requirement already satisfied: idna<4,>=2.5 in /usr/local/lib/python3.12/dist-packages (from requests>=2.25.0->fetch-my-weather) (3.11)\n",
            "Requirement already satisfied: urllib3<3,>=1.21.1 in /usr/local/lib/python3.12/dist-packages (from requests>=2.25.0->fetch-my-weather) (2.5.0)\n",
            "Requirement already satisfied: certifi>=2017.4.17 in /usr/local/lib/python3.12/dist-packages (from requests>=2.25.0->fetch-my-weather) (2025.10.5)\n",
            "Downloading fetch_my_weather-0.4.0-py3-none-any.whl (17 kB)\n",
            "Installing collected packages: fetch-my-weather\n",
            "Successfully installed fetch-my-weather-0.4.0\n",
            "Collecting hands-on-ai\n",
            "  Downloading hands_on_ai-0.2.1-py3-none-any.whl.metadata (9.2 kB)\n",
            "Requirement already satisfied: requests in /usr/local/lib/python3.12/dist-packages (from hands-on-ai) (2.32.4)\n",
            "Requirement already satisfied: typer in /usr/local/lib/python3.12/dist-packages (from hands-on-ai) (0.19.2)\n",
            "Collecting python-fasthtml (from hands-on-ai)\n",
            "  Downloading python_fasthtml-0.12.30-py3-none-any.whl.metadata (9.3 kB)\n",
            "Collecting python-docx (from hands-on-ai)\n",
            "  Downloading python_docx-1.2.0-py3-none-any.whl.metadata (2.0 kB)\n",
            "Collecting pymupdf (from hands-on-ai)\n",
            "  Downloading pymupdf-1.26.5-cp39-abi3-manylinux_2_28_x86_64.whl.metadata (3.4 kB)\n",
            "Requirement already satisfied: scikit-learn in /usr/local/lib/python3.12/dist-packages (from hands-on-ai) (1.6.1)\n",
            "Requirement already satisfied: numpy in /usr/local/lib/python3.12/dist-packages (from hands-on-ai) (2.0.2)\n",
            "Collecting instructor>=1.11.0 (from hands-on-ai)\n",
            "  Downloading instructor-1.11.3-py3-none-any.whl.metadata (11 kB)\n",
            "Requirement already satisfied: pydantic>=2.0 in /usr/local/lib/python3.12/dist-packages (from hands-on-ai) (2.11.10)\n",
            "Requirement already satisfied: aiohttp<4.0.0,>=3.9.1 in /usr/local/lib/python3.12/dist-packages (from instructor>=1.11.0->hands-on-ai) (3.13.0)\n",
            "Collecting diskcache>=5.6.3 (from instructor>=1.11.0->hands-on-ai)\n",
            "  Downloading diskcache-5.6.3-py3-none-any.whl.metadata (20 kB)\n",
            "Requirement already satisfied: docstring-parser<1.0,>=0.16 in /usr/local/lib/python3.12/dist-packages (from instructor>=1.11.0->hands-on-ai) (0.17.0)\n",
            "Requirement already satisfied: jinja2<4.0.0,>=3.1.4 in /usr/local/lib/python3.12/dist-packages (from instructor>=1.11.0->hands-on-ai) (3.1.6)\n",
            "Collecting jiter<0.11,>=0.6.1 (from instructor>=1.11.0->hands-on-ai)\n",
            "  Downloading jiter-0.10.0-cp312-cp312-manylinux_2_17_x86_64.manylinux2014_x86_64.whl.metadata (5.2 kB)\n",
            "Requirement already satisfied: openai<2.0.0,>=1.70.0 in /usr/local/lib/python3.12/dist-packages (from instructor>=1.11.0->hands-on-ai) (1.109.1)\n",
            "Requirement already satisfied: pydantic-core<3.0.0,>=2.18.0 in /usr/local/lib/python3.12/dist-packages (from instructor>=1.11.0->hands-on-ai) (2.33.2)\n",
            "Requirement already satisfied: rich<15.0.0,>=13.7.0 in /usr/local/lib/python3.12/dist-packages (from instructor>=1.11.0->hands-on-ai) (13.9.4)\n",
            "Requirement already satisfied: tenacity<10.0.0,>=8.2.3 in /usr/local/lib/python3.12/dist-packages (from instructor>=1.11.0->hands-on-ai) (8.5.0)\n",
            "Requirement already satisfied: annotated-types>=0.6.0 in /usr/local/lib/python3.12/dist-packages (from pydantic>=2.0->hands-on-ai) (0.7.0)\n",
            "Requirement already satisfied: typing-extensions>=4.12.2 in /usr/local/lib/python3.12/dist-packages (from pydantic>=2.0->hands-on-ai) (4.15.0)\n",
            "Requirement already satisfied: typing-inspection>=0.4.0 in /usr/local/lib/python3.12/dist-packages (from pydantic>=2.0->hands-on-ai) (0.4.2)\n",
            "Requirement already satisfied: charset_normalizer<4,>=2 in /usr/local/lib/python3.12/dist-packages (from requests->hands-on-ai) (3.4.4)\n",
            "Requirement already satisfied: idna<4,>=2.5 in /usr/local/lib/python3.12/dist-packages (from requests->hands-on-ai) (3.11)\n",
            "Requirement already satisfied: urllib3<3,>=1.21.1 in /usr/local/lib/python3.12/dist-packages (from requests->hands-on-ai) (2.5.0)\n",
            "Requirement already satisfied: certifi>=2017.4.17 in /usr/local/lib/python3.12/dist-packages (from requests->hands-on-ai) (2025.10.5)\n",
            "Requirement already satisfied: click>=8.0.0 in /usr/local/lib/python3.12/dist-packages (from typer->hands-on-ai) (8.3.0)\n",
            "Requirement already satisfied: shellingham>=1.3.0 in /usr/local/lib/python3.12/dist-packages (from typer->hands-on-ai) (1.5.4)\n",
            "Requirement already satisfied: lxml>=3.1.0 in /usr/local/lib/python3.12/dist-packages (from python-docx->hands-on-ai) (5.4.0)\n",
            "Requirement already satisfied: fastcore>=1.8.1 in /usr/local/lib/python3.12/dist-packages (from python-fasthtml->hands-on-ai) (1.8.12)\n",
            "Requirement already satisfied: python-dateutil in /usr/local/lib/python3.12/dist-packages (from python-fasthtml->hands-on-ai) (2.9.0.post0)\n",
            "Requirement already satisfied: starlette>0.33 in /usr/local/lib/python3.12/dist-packages (from python-fasthtml->hands-on-ai) (0.48.0)\n",
            "Requirement already satisfied: oauthlib in /usr/local/lib/python3.12/dist-packages (from python-fasthtml->hands-on-ai) (3.3.1)\n",
            "Requirement already satisfied: itsdangerous in /usr/local/lib/python3.12/dist-packages (from python-fasthtml->hands-on-ai) (2.2.0)\n",
            "Requirement already satisfied: uvicorn>=0.30 in /usr/local/lib/python3.12/dist-packages (from uvicorn[standard]>=0.30->python-fasthtml->hands-on-ai) (0.37.0)\n",
            "Requirement already satisfied: httpx in /usr/local/lib/python3.12/dist-packages (from python-fasthtml->hands-on-ai) (0.28.1)\n",
            "Collecting fastlite>=0.1.1 (from python-fasthtml->hands-on-ai)\n",
            "  Downloading fastlite-0.2.1-py3-none-any.whl.metadata (12 kB)\n",
            "Requirement already satisfied: python-multipart in /usr/local/lib/python3.12/dist-packages (from python-fasthtml->hands-on-ai) (0.0.20)\n",
            "Requirement already satisfied: beautifulsoup4 in /usr/local/lib/python3.12/dist-packages (from python-fasthtml->hands-on-ai) (4.13.5)\n",
            "Requirement already satisfied: scipy>=1.6.0 in /usr/local/lib/python3.12/dist-packages (from scikit-learn->hands-on-ai) (1.16.2)\n",
            "Requirement already satisfied: joblib>=1.2.0 in /usr/local/lib/python3.12/dist-packages (from scikit-learn->hands-on-ai) (1.5.2)\n",
            "Requirement already satisfied: threadpoolctl>=3.1.0 in /usr/local/lib/python3.12/dist-packages (from scikit-learn->hands-on-ai) (3.6.0)\n",
            "Requirement already satisfied: aiohappyeyeballs>=2.5.0 in /usr/local/lib/python3.12/dist-packages (from aiohttp<4.0.0,>=3.9.1->instructor>=1.11.0->hands-on-ai) (2.6.1)\n",
            "Requirement already satisfied: aiosignal>=1.4.0 in /usr/local/lib/python3.12/dist-packages (from aiohttp<4.0.0,>=3.9.1->instructor>=1.11.0->hands-on-ai) (1.4.0)\n",
            "Requirement already satisfied: attrs>=17.3.0 in /usr/local/lib/python3.12/dist-packages (from aiohttp<4.0.0,>=3.9.1->instructor>=1.11.0->hands-on-ai) (25.4.0)\n",
            "Requirement already satisfied: frozenlist>=1.1.1 in /usr/local/lib/python3.12/dist-packages (from aiohttp<4.0.0,>=3.9.1->instructor>=1.11.0->hands-on-ai) (1.8.0)\n",
            "Requirement already satisfied: multidict<7.0,>=4.5 in /usr/local/lib/python3.12/dist-packages (from aiohttp<4.0.0,>=3.9.1->instructor>=1.11.0->hands-on-ai) (6.7.0)\n",
            "Requirement already satisfied: propcache>=0.2.0 in /usr/local/lib/python3.12/dist-packages (from aiohttp<4.0.0,>=3.9.1->instructor>=1.11.0->hands-on-ai) (0.4.1)\n",
            "Requirement already satisfied: yarl<2.0,>=1.17.0 in /usr/local/lib/python3.12/dist-packages (from aiohttp<4.0.0,>=3.9.1->instructor>=1.11.0->hands-on-ai) (1.22.0)\n",
            "Requirement already satisfied: packaging in /usr/local/lib/python3.12/dist-packages (from fastcore>=1.8.1->python-fasthtml->hands-on-ai) (25.0)\n",
            "Collecting apswutils>=0.1.0 (from fastlite>=0.1.1->python-fasthtml->hands-on-ai)\n",
            "  Downloading apswutils-0.1.0-py3-none-any.whl.metadata (7.4 kB)\n",
            "Requirement already satisfied: MarkupSafe>=2.0 in /usr/local/lib/python3.12/dist-packages (from jinja2<4.0.0,>=3.1.4->instructor>=1.11.0->hands-on-ai) (3.0.3)\n",
            "Requirement already satisfied: anyio<5,>=3.5.0 in /usr/local/lib/python3.12/dist-packages (from openai<2.0.0,>=1.70.0->instructor>=1.11.0->hands-on-ai) (4.11.0)\n",
            "Requirement already satisfied: distro<2,>=1.7.0 in /usr/local/lib/python3.12/dist-packages (from openai<2.0.0,>=1.70.0->instructor>=1.11.0->hands-on-ai) (1.9.0)\n",
            "Requirement already satisfied: sniffio in /usr/local/lib/python3.12/dist-packages (from openai<2.0.0,>=1.70.0->instructor>=1.11.0->hands-on-ai) (1.3.1)\n",
            "Requirement already satisfied: tqdm>4 in /usr/local/lib/python3.12/dist-packages (from openai<2.0.0,>=1.70.0->instructor>=1.11.0->hands-on-ai) (4.67.1)\n",
            "Requirement already satisfied: httpcore==1.* in /usr/local/lib/python3.12/dist-packages (from httpx->python-fasthtml->hands-on-ai) (1.0.9)\n",
            "Requirement already satisfied: h11>=0.16 in /usr/local/lib/python3.12/dist-packages (from httpcore==1.*->httpx->python-fasthtml->hands-on-ai) (0.16.0)\n",
            "Requirement already satisfied: markdown-it-py>=2.2.0 in /usr/local/lib/python3.12/dist-packages (from rich<15.0.0,>=13.7.0->instructor>=1.11.0->hands-on-ai) (4.0.0)\n",
            "Requirement already satisfied: pygments<3.0.0,>=2.13.0 in /usr/local/lib/python3.12/dist-packages (from rich<15.0.0,>=13.7.0->instructor>=1.11.0->hands-on-ai) (2.19.2)\n",
            "Collecting httptools>=0.6.3 (from uvicorn[standard]>=0.30->python-fasthtml->hands-on-ai)\n",
            "  Downloading httptools-0.7.1-cp312-cp312-manylinux1_x86_64.manylinux_2_28_x86_64.manylinux_2_5_x86_64.whl.metadata (3.5 kB)\n",
            "Requirement already satisfied: python-dotenv>=0.13 in /usr/local/lib/python3.12/dist-packages (from uvicorn[standard]>=0.30->python-fasthtml->hands-on-ai) (1.1.1)\n",
            "Requirement already satisfied: pyyaml>=5.1 in /usr/local/lib/python3.12/dist-packages (from uvicorn[standard]>=0.30->python-fasthtml->hands-on-ai) (6.0.3)\n",
            "Collecting uvloop>=0.15.1 (from uvicorn[standard]>=0.30->python-fasthtml->hands-on-ai)\n",
            "  Downloading uvloop-0.22.1-cp312-cp312-manylinux2014_x86_64.manylinux_2_17_x86_64.manylinux_2_28_x86_64.whl.metadata (4.9 kB)\n",
            "Collecting watchfiles>=0.13 (from uvicorn[standard]>=0.30->python-fasthtml->hands-on-ai)\n",
            "  Downloading watchfiles-1.1.1-cp312-cp312-manylinux_2_17_x86_64.manylinux2014_x86_64.whl.metadata (4.9 kB)\n",
            "Requirement already satisfied: websockets>=10.4 in /usr/local/lib/python3.12/dist-packages (from uvicorn[standard]>=0.30->python-fasthtml->hands-on-ai) (15.0.1)\n",
            "Requirement already satisfied: soupsieve>1.2 in /usr/local/lib/python3.12/dist-packages (from beautifulsoup4->python-fasthtml->hands-on-ai) (2.8)\n",
            "Requirement already satisfied: six>=1.5 in /usr/local/lib/python3.12/dist-packages (from python-dateutil->python-fasthtml->hands-on-ai) (1.17.0)\n",
            "Collecting apsw (from apswutils>=0.1.0->fastlite>=0.1.1->python-fasthtml->hands-on-ai)\n",
            "  Downloading apsw-3.50.4.0-cp312-cp312-manylinux_2_28_x86_64.whl.metadata (3.7 kB)\n",
            "Requirement already satisfied: mdurl~=0.1 in /usr/local/lib/python3.12/dist-packages (from markdown-it-py>=2.2.0->rich<15.0.0,>=13.7.0->instructor>=1.11.0->hands-on-ai) (0.1.2)\n",
            "Downloading hands_on_ai-0.2.1-py3-none-any.whl (143 kB)\n",
            "\u001b[2K   \u001b[90m━━━━━━━━━━━━━━━━━━━━━━━━━━━━━━━━━━━━━━━━\u001b[0m \u001b[32m143.7/143.7 kB\u001b[0m \u001b[31m5.3 MB/s\u001b[0m eta \u001b[36m0:00:00\u001b[0m\n",
            "\u001b[?25hDownloading instructor-1.11.3-py3-none-any.whl (155 kB)\n",
            "\u001b[2K   \u001b[90m━━━━━━━━━━━━━━━━━━━━━━━━━━━━━━━━━━━━━━━━\u001b[0m \u001b[32m155.5/155.5 kB\u001b[0m \u001b[31m12.7 MB/s\u001b[0m eta \u001b[36m0:00:00\u001b[0m\n",
            "\u001b[?25hDownloading pymupdf-1.26.5-cp39-abi3-manylinux_2_28_x86_64.whl (24.1 MB)\n",
            "\u001b[2K   \u001b[90m━━━━━━━━━━━━━━━━━━━━━━━━━━━━━━━━━━━━━━━━\u001b[0m \u001b[32m24.1/24.1 MB\u001b[0m \u001b[31m81.2 MB/s\u001b[0m eta \u001b[36m0:00:00\u001b[0m\n",
            "\u001b[?25hDownloading python_docx-1.2.0-py3-none-any.whl (252 kB)\n",
            "\u001b[2K   \u001b[90m━━━━━━━━━━━━━━━━━━━━━━━━━━━━━━━━━━━━━━━━\u001b[0m \u001b[32m253.0/253.0 kB\u001b[0m \u001b[31m12.7 MB/s\u001b[0m eta \u001b[36m0:00:00\u001b[0m\n",
            "\u001b[?25hDownloading python_fasthtml-0.12.30-py3-none-any.whl (72 kB)\n",
            "\u001b[2K   \u001b[90m━━━━━━━━━━━━━━━━━━━━━━━━━━━━━━━━━━━━━━━━\u001b[0m \u001b[32m72.3/72.3 kB\u001b[0m \u001b[31m5.7 MB/s\u001b[0m eta \u001b[36m0:00:00\u001b[0m\n",
            "\u001b[?25hDownloading diskcache-5.6.3-py3-none-any.whl (45 kB)\n",
            "\u001b[2K   \u001b[90m━━━━━━━━━━━━━━━━━━━━━━━━━━━━━━━━━━━━━━━━\u001b[0m \u001b[32m45.5/45.5 kB\u001b[0m \u001b[31m3.4 MB/s\u001b[0m eta \u001b[36m0:00:00\u001b[0m\n",
            "\u001b[?25hDownloading fastlite-0.2.1-py3-none-any.whl (17 kB)\n",
            "Downloading jiter-0.10.0-cp312-cp312-manylinux_2_17_x86_64.manylinux2014_x86_64.whl (352 kB)\n",
            "\u001b[2K   \u001b[90m━━━━━━━━━━━━━━━━━━━━━━━━━━━━━━━━━━━━━━━━\u001b[0m \u001b[32m352.0/352.0 kB\u001b[0m \u001b[31m21.4 MB/s\u001b[0m eta \u001b[36m0:00:00\u001b[0m\n",
            "\u001b[?25hDownloading apswutils-0.1.0-py3-none-any.whl (80 kB)\n",
            "\u001b[2K   \u001b[90m━━━━━━━━━━━━━━━━━━━━━━━━━━━━━━━━━━━━━━━━\u001b[0m \u001b[32m80.5/80.5 kB\u001b[0m \u001b[31m6.3 MB/s\u001b[0m eta \u001b[36m0:00:00\u001b[0m\n",
            "\u001b[?25hDownloading httptools-0.7.1-cp312-cp312-manylinux1_x86_64.manylinux_2_28_x86_64.manylinux_2_5_x86_64.whl (517 kB)\n",
            "\u001b[2K   \u001b[90m━━━━━━━━━━━━━━━━━━━━━━━━━━━━━━━━━━━━━━━━\u001b[0m \u001b[32m517.7/517.7 kB\u001b[0m \u001b[31m34.9 MB/s\u001b[0m eta \u001b[36m0:00:00\u001b[0m\n",
            "\u001b[?25hDownloading uvloop-0.22.1-cp312-cp312-manylinux2014_x86_64.manylinux_2_17_x86_64.manylinux_2_28_x86_64.whl (4.4 MB)\n",
            "\u001b[2K   \u001b[90m━━━━━━━━━━━━━━━━━━━━━━━━━━━━━━━━━━━━━━━━\u001b[0m \u001b[32m4.4/4.4 MB\u001b[0m \u001b[31m99.3 MB/s\u001b[0m eta \u001b[36m0:00:00\u001b[0m\n",
            "\u001b[?25hDownloading watchfiles-1.1.1-cp312-cp312-manylinux_2_17_x86_64.manylinux2014_x86_64.whl (456 kB)\n",
            "\u001b[2K   \u001b[90m━━━━━━━━━━━━━━━━━━━━━━━━━━━━━━━━━━━━━━━━\u001b[0m \u001b[32m456.8/456.8 kB\u001b[0m \u001b[31m32.7 MB/s\u001b[0m eta \u001b[36m0:00:00\u001b[0m\n",
            "\u001b[?25hDownloading apsw-3.50.4.0-cp312-cp312-manylinux_2_28_x86_64.whl (7.1 MB)\n",
            "\u001b[2K   \u001b[90m━━━━━━━━━━━━━━━━━━━━━━━━━━━━━━━━━━━━━━━━\u001b[0m \u001b[32m7.1/7.1 MB\u001b[0m \u001b[31m93.8 MB/s\u001b[0m eta \u001b[36m0:00:00\u001b[0m\n",
            "\u001b[?25hInstalling collected packages: uvloop, python-docx, pymupdf, jiter, httptools, diskcache, apsw, watchfiles, apswutils, fastlite, python-fasthtml, instructor, hands-on-ai\n",
            "  Attempting uninstall: jiter\n",
            "    Found existing installation: jiter 0.11.0\n",
            "    Uninstalling jiter-0.11.0:\n",
            "      Successfully uninstalled jiter-0.11.0\n",
            "Successfully installed apsw-3.50.4.0 apswutils-0.1.0 diskcache-5.6.3 fastlite-0.2.1 hands-on-ai-0.2.1 httptools-0.7.1 instructor-1.11.3 jiter-0.10.0 pymupdf-1.26.5 python-docx-1.2.0 python-fasthtml-0.12.30 uvloop-0.22.1 watchfiles-1.1.1\n",
            "Collecting pyinputplus\n",
            "  Downloading PyInputPlus-0.2.12.tar.gz (20 kB)\n",
            "  Installing build dependencies ... \u001b[?25l\u001b[?25hdone\n",
            "  Getting requirements to build wheel ... \u001b[?25l\u001b[?25hdone\n",
            "  Preparing metadata (pyproject.toml) ... \u001b[?25l\u001b[?25hdone\n",
            "Collecting pysimplevalidate>=0.2.7 (from pyinputplus)\n",
            "  Downloading PySimpleValidate-0.2.12.tar.gz (22 kB)\n",
            "  Installing build dependencies ... \u001b[?25l\u001b[?25hdone\n",
            "  Getting requirements to build wheel ... \u001b[?25l\u001b[?25hdone\n",
            "  Preparing metadata (pyproject.toml) ... \u001b[?25l\u001b[?25hdone\n",
            "Collecting stdiomask>=0.0.3 (from pyinputplus)\n",
            "  Downloading stdiomask-0.0.6.tar.gz (3.6 kB)\n",
            "  Installing build dependencies ... \u001b[?25l\u001b[?25hdone\n",
            "  Getting requirements to build wheel ... \u001b[?25l\u001b[?25hdone\n",
            "  Preparing metadata (pyproject.toml) ... \u001b[?25l\u001b[?25hdone\n",
            "Building wheels for collected packages: pyinputplus, pysimplevalidate, stdiomask\n",
            "  Building wheel for pyinputplus (pyproject.toml) ... \u001b[?25l\u001b[?25hdone\n",
            "  Created wheel for pyinputplus: filename=pyinputplus-0.2.12-py3-none-any.whl size=11348 sha256=9dfbaa3559c766f539fd5f9596034f18300efd221ef734c85b6d591f3d3948e0\n",
            "  Stored in directory: /root/.cache/pip/wheels/85/81/c1/325c8199c5c4de8a0b9af900ff9cd8bd69853e3d9419493512\n",
            "  Building wheel for pysimplevalidate (pyproject.toml) ... \u001b[?25l\u001b[?25hdone\n",
            "  Created wheel for pysimplevalidate: filename=pysimplevalidate-0.2.12-py3-none-any.whl size=16225 sha256=a825764c2edd49321331870a9dd2d397aadbd1ba845f57403af6e6552b865178\n",
            "  Stored in directory: /root/.cache/pip/wheels/09/de/18/4dd2be0dbdf31870c6f0abde43b0de197b1c095655ad7da5c2\n",
            "  Building wheel for stdiomask (pyproject.toml) ... \u001b[?25l\u001b[?25hdone\n",
            "  Created wheel for stdiomask: filename=stdiomask-0.0.6-py3-none-any.whl size=3358 sha256=b228f04591f7acb3c21f9d0e3e372ee1cd9bed8a40976d821fda7ab5a6e60398\n",
            "  Stored in directory: /root/.cache/pip/wheels/05/c7/e6/c66ff8c008b4d73f2db458feb4922075e7755853fe496e5135\n",
            "Successfully built pyinputplus pysimplevalidate stdiomask\n",
            "Installing collected packages: stdiomask, pysimplevalidate, pyinputplus\n",
            "Successfully installed pyinputplus-0.2.12 pysimplevalidate-0.2.12 stdiomask-0.0.6\n",
            "Requirement already satisfied: requests in /usr/local/lib/python3.12/dist-packages (2.32.4)\n",
            "Requirement already satisfied: charset_normalizer<4,>=2 in /usr/local/lib/python3.12/dist-packages (from requests) (3.4.4)\n",
            "Requirement already satisfied: idna<4,>=2.5 in /usr/local/lib/python3.12/dist-packages (from requests) (3.11)\n",
            "Requirement already satisfied: urllib3<3,>=1.21.1 in /usr/local/lib/python3.12/dist-packages (from requests) (2.5.0)\n",
            "Requirement already satisfied: certifi>=2017.4.17 in /usr/local/lib/python3.12/dist-packages (from requests) (2025.10.5)\n",
            "Requirement already satisfied: matplotlib in /usr/local/lib/python3.12/dist-packages (3.10.0)\n",
            "Requirement already satisfied: contourpy>=1.0.1 in /usr/local/lib/python3.12/dist-packages (from matplotlib) (1.3.3)\n",
            "Requirement already satisfied: cycler>=0.10 in /usr/local/lib/python3.12/dist-packages (from matplotlib) (0.12.1)\n",
            "Requirement already satisfied: fonttools>=4.22.0 in /usr/local/lib/python3.12/dist-packages (from matplotlib) (4.60.1)\n",
            "Requirement already satisfied: kiwisolver>=1.3.1 in /usr/local/lib/python3.12/dist-packages (from matplotlib) (1.4.9)\n",
            "Requirement already satisfied: numpy>=1.23 in /usr/local/lib/python3.12/dist-packages (from matplotlib) (2.0.2)\n",
            "Requirement already satisfied: packaging>=20.0 in /usr/local/lib/python3.12/dist-packages (from matplotlib) (25.0)\n",
            "Requirement already satisfied: pillow>=8 in /usr/local/lib/python3.12/dist-packages (from matplotlib) (11.3.0)\n",
            "Requirement already satisfied: pyparsing>=2.3.1 in /usr/local/lib/python3.12/dist-packages (from matplotlib) (3.2.5)\n",
            "Requirement already satisfied: python-dateutil>=2.7 in /usr/local/lib/python3.12/dist-packages (from matplotlib) (2.9.0.post0)\n",
            "Requirement already satisfied: six>=1.5 in /usr/local/lib/python3.12/dist-packages (from python-dateutil>=2.7->matplotlib) (1.17.0)\n"
          ]
        }
      ],
      "source": [
        "# 🧪 Optional packages — uncomment if needed in Colab or JupyterHub\n",
        "!pip install fetch-my-weather\n",
        "!pip install hands-on-ai\n",
        "!pip install pyinputplus\n",
        "!pip install requests\n",
        "!pip install matplotlib\n"
      ]
    },
    {
      "cell_type": "markdown",
      "id": "59ae7543",
      "metadata": {
        "id": "59ae7543"
      },
      "source": [
        "## 📦 Setup and Configuration\n",
        "Import required packages and setup environment."
      ]
    },
    {
      "cell_type": "code",
      "execution_count": 2,
      "id": "f1dd051e",
      "metadata": {
        "id": "f1dd051e"
      },
      "outputs": [],
      "source": [
        "import requests\n",
        "import matplotlib.pyplot as plt\n",
        "import pyinputplus as pyip"
      ]
    },
    {
      "cell_type": "markdown",
      "id": "f736ade3",
      "metadata": {
        "id": "f736ade3"
      },
      "source": [
        "## 🌤️ Weather Data Functions"
      ]
    },
    {
      "cell_type": "code",
      "execution_count": 5,
      "id": "7a2c7cd0",
      "metadata": {
        "id": "7a2c7cd0"
      },
      "outputs": [],
      "source": [
        "# Define get_weather_data() function here\n",
        "weather_cache = {}  # cache dictionary to store previous results\n",
        "def get_weather_data(location, forecast_days=3):\n",
        "    if location in weather_cache:\n",
        "        print(f\"(cached) Returning saved data for {location}\")\n",
        "        return weather_cache[location]\n",
        "\n",
        "    url = f\"https://wttr.in/{location}?format=j1\"\n",
        "    try:\n",
        "        response = requests.get(url, timeout=5)\n",
        "        response.raise_for_status()\n",
        "        data = response.json()\n",
        "\n",
        "        result = {\n",
        "            \"temperature\": data[\"current_condition\"][0][\"temp_C\"],\n",
        "            \"humidity\": data[\"current_condition\"][0][\"humidity\"],\n",
        "            \"forecast\": [\n",
        "                {\n",
        "                    \"date\": d[\"date\"],\n",
        "                    \"max_temp\": d[\"maxtempC\"],\n",
        "                    \"min_temp\": d[\"mintempC\"],\n",
        "                    # take daily chance of rain from first hourly block\n",
        "                    \"chance_of_rain\": d[\"hourly\"][0][\"chanceofrain\"]\n",
        "                }\n",
        "                for d in data[\"weather\"][:forecast_days]\n",
        "            ]\n",
        "        }\n",
        "        weather_cache[location] = result\n",
        "        return result\n",
        "\n",
        "\n",
        "    except requests.exceptions.RequestException:\n",
        "        return {\"error\": \"Failed to fetch weather data. Please check the location or try again later.\"}\n"
      ]
    },
    {
      "cell_type": "markdown",
      "id": "8a744fdc",
      "metadata": {
        "id": "8a744fdc"
      },
      "source": [
        "## 📊 Visualisation Functions"
      ]
    },
    {
      "cell_type": "code",
      "execution_count": 6,
      "id": "9dc3bf85",
      "metadata": {
        "id": "9dc3bf85"
      },
      "outputs": [],
      "source": [
        "# Define create_temperature_visualisation() and create_precipitation_visualisation() here\n",
        "import matplotlib.pyplot as plt\n",
        "\n",
        "def create_temperature_visualisation(weather_data, output_type='display'):\n",
        "    dates = [day[\"date\"] for day in weather_data[\"forecast\"]]\n",
        "    max_temps = [int(day[\"max_temp\"]) for day in weather_data[\"forecast\"]]\n",
        "    min_temps = [int(day[\"min_temp\"]) for day in weather_data[\"forecast\"]]\n",
        "\n",
        "    fig, ax = plt.subplots()\n",
        "    ax.plot(dates, max_temps, marker='o', label=\"Max Temp (°C)\")\n",
        "    ax.plot(dates, min_temps, marker='o', label=\"Min Temp (°C)\")\n",
        "\n",
        "    ax.set_title(\"Temperature Forecast\")\n",
        "    ax.set_xlabel(\"Date\")\n",
        "    ax.set_ylabel(\"Temperature (°C)\")\n",
        "    ax.legend()\n",
        "    plt.xticks(rotation=45)\n",
        "\n",
        "    if output_type == 'figure':\n",
        "        return fig\n",
        "    else:\n",
        "        plt.show()\n"
      ]
    },
    {
      "cell_type": "code",
      "source": [
        "def create_precipitation_visualisation(weather_data, output_type='display'):\n",
        "    dates = [day[\"date\"] for day in weather_data[\"forecast\"]]\n",
        "    precipitation = [int(day[\"chance_of_rain\"]) for day in weather_data[\"forecast\"]]\n",
        "\n",
        "    fig, ax = plt.subplots()\n",
        "    ax.bar(dates, precipitation, color='skyblue')\n",
        "\n",
        "    ax.set_title(\"Precipitation Forecast\")\n",
        "    ax.set_xlabel(\"Date\")\n",
        "    ax.set_ylabel(\"Chance of Rain (%)\")\n",
        "    ax.set_ylim(0, 100)  # Always show 0–100%\n",
        "\n",
        "    # If no rain at all, show a message\n",
        "    if all(p == 0 for p in precipitation):\n",
        "        ax.text(0.5, 0.5, \"No rain expected\",\n",
        "                ha='center', va='center', fontsize=12, color='green',\n",
        "                transform=ax.transAxes)\n",
        "\n",
        "    plt.xticks(rotation=45)\n",
        "\n",
        "    if output_type == 'figure':\n",
        "        return fig\n",
        "    else:\n",
        "        plt.show()"
      ],
      "metadata": {
        "id": "HpOlQylYG5Ho"
      },
      "id": "HpOlQylYG5Ho",
      "execution_count": 7,
      "outputs": []
    },
    {
      "cell_type": "code",
      "source": [
        "def compare_cities_weather(city1, city2):\n",
        "    \"\"\"\n",
        "    Compare 3-day temperature forecasts between two cities.\n",
        "    \"\"\"\n",
        "    data1 = get_weather_data(city1)\n",
        "    data2 = get_weather_data(city2)\n",
        "\n",
        "    if \"error\" in data1 or \"error\" in data2:\n",
        "        print(\"Error fetching one or both city data.\")\n",
        "        return\n",
        "\n",
        "    dates = [day[\"date\"] for day in data1[\"forecast\"]]\n",
        "    temps1 = [int(day[\"max_temp\"]) for day in data1[\"forecast\"]]\n",
        "    temps2 = [int(day[\"max_temp\"]) for day in data2[\"forecast\"]]\n",
        "\n",
        "    plt.figure(figsize=(8, 4))\n",
        "    plt.plot(dates, temps1, marker='o', label=f\"{city1} Max Temp\")\n",
        "    plt.plot(dates, temps2, marker='o', label=f\"{city2} Max Temp\")\n",
        "    plt.title(f\"Temperature Comparison: {city1} vs {city2}\")\n",
        "    plt.xlabel(\"Date\")\n",
        "    plt.ylabel(\"Temperature (°C)\")\n",
        "    plt.legend()\n",
        "    plt.grid(True)\n",
        "    plt.show()"
      ],
      "metadata": {
        "id": "pQUjSsunnr95"
      },
      "id": "pQUjSsunnr95",
      "execution_count": 8,
      "outputs": []
    },
    {
      "cell_type": "markdown",
      "id": "9f95d160",
      "metadata": {
        "id": "9f95d160"
      },
      "source": [
        "## 🤖 Natural Language Processing"
      ]
    },
    {
      "cell_type": "code",
      "execution_count": 10,
      "id": "bcc5833e",
      "metadata": {
        "id": "bcc5833e"
      },
      "outputs": [],
      "source": [
        "import re\n",
        "\n",
        "def parse_weather_question(question):\n",
        "    question = question.lower()\n",
        "\n",
        "    # defaults\n",
        "    location = None\n",
        "    time_period = \"today\"\n",
        "    attribute = \"temperature\"\n",
        "\n",
        "    # detect time\n",
        "    if \"tomorrow\" in question:\n",
        "        time_period = \"tomorrow\"\n",
        "    elif \"today\" in question:\n",
        "        time_period = \"today\"\n",
        "\n",
        "    # detect attribute\n",
        "    if \"rain\" in question:\n",
        "        attribute = \"chance_of_rain\"\n",
        "    elif \"temperature\" in question or \"hot\" in question or \"cold\" in question:\n",
        "        attribute = \"temperature\"\n",
        "\n",
        "    # extract location after \"in\"\n",
        "    words = question.split(\" in \")\n",
        "    if len(words) > 1:\n",
        "        location = words[1]\n",
        "        # clean up location (remove \"today\", \"tomorrow\", punctuation)\n",
        "        location = re.sub(r\"\\b(today|tomorrow)\\b\", \"\", location)\n",
        "        location = re.sub(r\"[^\\w\\s]\", \"\", location)  # remove punctuation\n",
        "        location = location.strip().title()\n",
        "    else:\n",
        "        location = \"Perth\"  # fallback if no location provided\n",
        "\n",
        "    return {\"location\": location, \"time_period\": time_period, \"attribute\": attribute}\n",
        "\n",
        "def generate_weather_response(parsed_question, weather_data):\n",
        "    if \"error\" in weather_data:\n",
        "        return weather_data[\"error\"]\n",
        "\n",
        "    location = parsed_question[\"location\"]\n",
        "    time_period = parsed_question[\"time_period\"]\n",
        "    attribute = parsed_question[\"attribute\"]\n",
        "\n",
        "    forecast = weather_data[\"forecast\"][0]\n",
        "    if time_period == \"tomorrow\" and len(weather_data[\"forecast\"]) > 1:\n",
        "        forecast = weather_data[\"forecast\"][1]\n",
        "\n",
        "    # Basic Response\n",
        "    if attribute == \"chance_of_rain\":\n",
        "        response = f\"Looks like {location} {time_period} has a {forecast['chance_of_rain']}% chance of rain.\"\n",
        "    elif attribute == \"temperature\":\n",
        "        response = f\"In {location} {time_period}, expect temperatures between {forecast['min_temp']}°C and {forecast['max_temp']}°C.\"\n",
        "    else:\n",
        "        response = f\"Here’s the forecast for {location} {time_period}.\"\n",
        "\n",
        "    # Advanced: automatic summary sentences\n",
        "    avg_temp = (int(forecast[\"max_temp\"]) + int(forecast[\"min_temp\"])) / 2\n",
        "    rain = int(forecast[\"chance_of_rain\"])\n",
        "\n",
        "    summary = \"\"\n",
        "    if rain > 70:\n",
        "        summary = \" It’s likely to rain today, so take an umbrella! ☔\"\n",
        "    elif avg_temp > 28:\n",
        "        summary = \" It will be quite hot — stay hydrated! ☀️\"\n",
        "    elif avg_temp < 10:\n",
        "        summary = \" Expect a chilly day, dress warmly. ❄️\"\n",
        "    else:\n",
        "        summary = \" The weather looks mild and pleasant. 🌤️\"\n",
        "\n",
        "    return response + summary\n"
      ]
    },
    {
      "cell_type": "markdown",
      "id": "0d85225e",
      "metadata": {
        "id": "0d85225e"
      },
      "source": [
        "## 🧭 User Interface"
      ]
    },
    {
      "cell_type": "code",
      "execution_count": 11,
      "id": "fa6cb0f6",
      "metadata": {
        "id": "fa6cb0f6"
      },
      "outputs": [],
      "source": [
        "# Define menu functions using pyinputplus or ipywidgets here\n",
        "import pyinputplus as pyip\n",
        "\n",
        "def main_menu():\n",
        "    while True:\n",
        "        print(\"\\n=== Weather Advisor ===\")\n",
        "        choice = pyip.inputMenu(\n",
        "            [\"Check Weather\", \"View Visualisation\", \"Exit\"],\n",
        "            numbered=True\n",
        "        )\n",
        "\n",
        "        if choice == \"Check Weather\":\n",
        "            city = pyip.inputStr(\"Enter a city: \")\n",
        "            q = f\"What is the temperature in {city} today?\"\n",
        "            parsed = parse_weather_question(q)\n",
        "            data = get_weather_data(parsed[\"location\"])\n",
        "            print(generate_weather_response(parsed, data))\n",
        "\n",
        "        elif choice == \"View Visualisation\":\n",
        "            city = pyip.inputStr(\"Enter a city: \")\n",
        "            data = get_weather_data(city)\n",
        "            create_temperature_visualisation(data)\n",
        "            create_precipitation_visualisation(data)\n",
        "\n",
        "        elif choice == \"Exit\":\n",
        "            print(\"Goodbye! 👋\")\n",
        "            break\n"
      ]
    },
    {
      "cell_type": "markdown",
      "id": "d643a53c",
      "metadata": {
        "id": "d643a53c"
      },
      "source": [
        "## 🧩 Main Application Logic"
      ]
    },
    {
      "cell_type": "code",
      "execution_count": 12,
      "id": "a9e2e805",
      "metadata": {
        "id": "a9e2e805"
      },
      "outputs": [],
      "source": [
        "# Tie everything together here\n",
        "import pyinputplus as pyip\n",
        "\n",
        "def main_app():\n",
        "    while True:\n",
        "        print(\"\\n=== WeatherWise Advisor ===\")\n",
        "        choice = pyip.inputMenu(\n",
        "            [\"Ask a weather question\", \"View visualisations\", \"Compare Two Cities\", \"Exit\"],\n",
        "            numbered=True\n",
        "        )\n",
        "\n",
        "        # 1️⃣ User Question -> Weather answer\n",
        "        if choice == \"Ask a weather question\":\n",
        "            question = pyip.inputStr(\"Enter your weather question: \")\n",
        "            parsed = parse_weather_question(question)\n",
        "            data = get_weather_data(parsed[\"location\"])\n",
        "            response = generate_weather_response(parsed, data)\n",
        "            print(response)\n",
        "\n",
        "        # Visulaization function\n",
        "        elif choice == \"View visualisations\":\n",
        "            city = pyip.inputStr(\"Enter a city: \")\n",
        "            data = get_weather_data(city)\n",
        "            create_temperature_visualisation(data)\n",
        "            create_precipitation_visualisation(data)\n",
        "\n",
        "        # Added comparing two cities function\n",
        "        elif choice == \"Compare Two Cities\":\n",
        "            city1 = pyip.inputStr(\"Enter the first city: \")\n",
        "            city2 = pyip.inputStr(\"Enter the second city: \")\n",
        "            compare_cities_weather(city1, city2)\n",
        "\n",
        "        # Exit\n",
        "        elif choice == \"Exit\":\n",
        "            print(\"Goodbye! 👋 Stay weather-wise!\")\n",
        "            break\n"
      ]
    },
    {
      "cell_type": "markdown",
      "id": "fde44479",
      "metadata": {
        "id": "fde44479"
      },
      "source": [
        "## 🧪 Testing and Examples"
      ]
    },
    {
      "cell_type": "code",
      "source": [
        "#Weather Data Functions\n",
        "print(get_weather_data(\"New York\"))"
      ],
      "metadata": {
        "colab": {
          "base_uri": "https://localhost:8080/"
        },
        "id": "8uXAv8vTwl7r",
        "outputId": "89b3907f-df31-4d8e-98ab-61c9fb0d775c"
      },
      "id": "8uXAv8vTwl7r",
      "execution_count": 13,
      "outputs": [
        {
          "output_type": "stream",
          "name": "stdout",
          "text": [
            "{'temperature': '17', 'humidity': '80', 'forecast': [{'date': '2025-10-19', 'max_temp': '25', 'min_temp': '9', 'chance_of_rain': '0'}, {'date': '2025-10-20', 'max_temp': '19', 'min_temp': '13', 'chance_of_rain': '0'}, {'date': '2025-10-21', 'max_temp': '17', 'min_temp': '12', 'chance_of_rain': '0'}]}\n"
          ]
        }
      ]
    },
    {
      "cell_type": "code",
      "source": [
        "#Visualisation Functions\n",
        "data = get_weather_data(\"New York\")\n",
        "\n",
        "create_temperature_visualisation(data)\n",
        "create_precipitation_visualisation(data)"
      ],
      "metadata": {
        "colab": {
          "base_uri": "https://localhost:8080/",
          "height": 1000
        },
        "id": "bAQcK5IkwqaM",
        "outputId": "b6d96c49-a1e6-40aa-f599-fcbd59998103"
      },
      "id": "bAQcK5IkwqaM",
      "execution_count": 14,
      "outputs": [
        {
          "output_type": "stream",
          "name": "stdout",
          "text": [
            "(cached) Returning saved data for New York\n"
          ]
        },
        {
          "output_type": "display_data",
          "data": {
            "text/plain": [
              "<Figure size 640x480 with 1 Axes>"
            ],
            "image/png": "[encoded data removed]"
          },
          "metadata": {}
        },
        {
          "output_type": "display_data",
          "data": {
            "text/plain": [
              "<Figure size 640x480 with 1 Axes>"
            ],
            "image/png": "[encoded data removed]"
          },
          "metadata": {}
        }
      ]
    },
    {
      "cell_type": "code",
      "source": [
        "#Natural Language Processing\n",
        "q = \"What's the temperature in New York today?\"\n",
        "parsed = parse_weather_question(q)\n",
        "print(parsed)\n",
        "\n",
        "data = get_weather_data(parsed[\"location\"])\n",
        "print(generate_weather_response(parsed, data))"
      ],
      "metadata": {
        "colab": {
          "base_uri": "https://localhost:8080/"
        },
        "id": "VXLaSPWRwtx9",
        "outputId": "524be276-08a0-4daf-ef9d-a2a11763e866"
      },
      "id": "VXLaSPWRwtx9",
      "execution_count": 15,
      "outputs": [
        {
          "output_type": "stream",
          "name": "stdout",
          "text": [
            "{'location': 'New York', 'time_period': 'today', 'attribute': 'temperature'}\n",
            "(cached) Returning saved data for New York\n",
            "In New York today, expect temperatures between 9°C and 25°C. The weather looks mild and pleasant. 🌤️\n"
          ]
        }
      ]
    },
    {
      "cell_type": "code",
      "source": [
        "#Multi-City Comparison Test\n",
        "compare_cities_weather(\"New York\", \"Perth\")"
      ],
      "metadata": {
        "id": "6J2vd8XPrqoi",
        "outputId": "15906330-1225-44b2-d545-a780e7b85dcd",
        "colab": {
          "base_uri": "https://localhost:8080/",
          "height": 428
        }
      },
      "id": "6J2vd8XPrqoi",
      "execution_count": 16,
      "outputs": [
        {
          "output_type": "stream",
          "name": "stdout",
          "text": [
            "(cached) Returning saved data for New York\n"
          ]
        },
        {
          "output_type": "display_data",
          "data": {
            "text/plain": [
              "<Figure size 800x400 with 1 Axes>"
            ],
            "image/png": "[encoded data removed]"
          },
          "metadata": {}
        }
      ]
    },
    {
      "cell_type": "code",
      "source": [
        "#Caching Test\n",
        "print()\n",
        "get_weather_data(\"Perth\")\n",
        "get_weather_data(\"Perth\")"
      ],
      "metadata": {
        "id": "EVYmvpMSr5gF",
        "outputId": "f9d2b4d6-5353-4e49-b23b-fba188b9c971",
        "colab": {
          "base_uri": "https://localhost:8080/"
        }
      },
      "id": "EVYmvpMSr5gF",
      "execution_count": 17,
      "outputs": [
        {
          "output_type": "stream",
          "name": "stdout",
          "text": [
            "\n",
            "(cached) Returning saved data for Perth\n",
            "(cached) Returning saved data for Perth\n"
          ]
        },
        {
          "output_type": "execute_result",
          "data": {
            "text/plain": [
              "{'temperature': '11',\n",
              " 'humidity': '87',\n",
              " 'forecast': [{'date': '2025-10-19',\n",
              "   'max_temp': '19',\n",
              "   'min_temp': '14',\n",
              "   'chance_of_rain': '81'},\n",
              "  {'date': '2025-10-20',\n",
              "   'max_temp': '17',\n",
              "   'min_temp': '13',\n",
              "   'chance_of_rain': '0'},\n",
              "  {'date': '2025-10-21',\n",
              "   'max_temp': '18',\n",
              "   'min_temp': '11',\n",
              "   'chance_of_rain': '100'}]}"
            ]
          },
          "metadata": {},
          "execution_count": 17
        }
      ]
    },
    {
      "cell_type": "code",
      "source": [
        "#Edge Case Test\n",
        "print()\n",
        "invalid = get_weather_data(\"!!\")\n",
        "print(invalid)"
      ],
      "metadata": {
        "id": "HkpxfVGOsEK2",
        "outputId": "08f1884f-0737-48ab-b015-4c3ed86f6fce",
        "colab": {
          "base_uri": "https://localhost:8080/"
        }
      },
      "id": "HkpxfVGOsEK2",
      "execution_count": 20,
      "outputs": [
        {
          "output_type": "stream",
          "name": "stdout",
          "text": [
            "\n",
            "{'error': 'Failed to fetch weather data. Please check the location or try again later.'}\n"
          ]
        }
      ]
    },
    {
      "cell_type": "code",
      "source": [
        "#User Interface\n",
        "main_menu()"
      ],
      "metadata": {
        "id": "O6Tzs3Qnx7Rn",
        "outputId": "3752277c-8c87-44cd-8756-f0e39d029505",
        "colab": {
          "base_uri": "https://localhost:8080/"
        }
      },
      "id": "O6Tzs3Qnx7Rn",
      "execution_count": 23,
      "outputs": [
        {
          "output_type": "stream",
          "name": "stdout",
          "text": [
            "\n",
            "=== Weather Advisor ===\n",
            "Please select one of the following:\n",
            "1. Check Weather\n",
            "2. View Visualisation\n",
            "3. Exit\n",
            "Exit\n",
            "Goodbye! 👋\n"
          ]
        }
      ]
    },
    {
      "cell_type": "code",
      "source": [
        "#Main Application Logic - Run this cell to start the interactive WeatherWise app\n",
        "main_app()"
      ],
      "metadata": {
        "id": "hKNIzFN3K0wv"
      },
      "id": "hKNIzFN3K0wv",
      "execution_count": null,
      "outputs": []
    },
    {
      "cell_type": "code",
      "source": [
        "#Main Menu System Test\n",
        "print()\n",
        "main_app()"
      ],
      "metadata": {
        "id": "WPNN7ToVshhE",
        "outputId": "9c5a3bd3-6c28-447e-8bd0-a5680b719086",
        "colab": {
          "base_uri": "https://localhost:8080/"
        }
      },
      "id": "WPNN7ToVshhE",
      "execution_count": 22,
      "outputs": [
        {
          "output_type": "stream",
          "name": "stdout",
          "text": [
            "\n",
            "\n",
            "=== WeatherWise Advisor ===\n",
            "Please select one of the following:\n",
            "1. Ask a weather question\n",
            "2. View visualisations\n",
            "3. Compare Two Cities\n",
            "4. Exit\n",
            "Exit\n",
            "Goodbye! 👋 Stay weather-wise!\n"
          ]
        }
      ]
    }
  ],
  "metadata": {
    "language_info": {
      "name": "python"
    },
    "colab": {
      "provenance": [],
      "include_colab_link": true
    },
    "kernelspec": {
      "name": "python3",
      "display_name": "Python 3"
    }
  },
  "nbformat": 4,
  "nbformat_minor": 5
}